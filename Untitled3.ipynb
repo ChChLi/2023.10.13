{
  "nbformat": 4,
  "nbformat_minor": 0,
  "metadata": {
    "colab": {
      "provenance": []
    },
    "kernelspec": {
      "name": "python3",
      "display_name": "Python 3"
    },
    "language_info": {
      "name": "python"
    }
  },
  "cells": [
    {
      "cell_type": "code",
      "execution_count": 5,
      "metadata": {
        "colab": {
          "base_uri": "https://localhost:8080/"
        },
        "id": "Xh98wi963C_O",
        "outputId": "9b1bec90-8b4b-4158-d570-46821a423efd"
      },
      "outputs": [
        {
          "output_type": "stream",
          "name": "stdout",
          "text": [
            "Chang Chih Ling\n",
            "<class 'str'>\n",
            "B1205004\n",
            "<class 'str'>\n",
            "Name: (Chang Chih Ling), ID: (B1205004)\n"
          ]
        }
      ],
      "source": [
        "x = \"Chang Chih Ling\"\n",
        "y = \"B1205004\"\n",
        "print(x)\n",
        "print(type(x))\n",
        "print(y)\n",
        "print(type(y))\n",
        "\n",
        "my_dict = {\"name\": \"Chang Chih Ling\", \"ID\":\"B1205004\" }\n",
        "name = my_dict[\"name\"]\n",
        "ID = my_dict[\"ID\"]\n",
        "print(f\"Name: (Chang Chih Ling), ID: (B1205004)\")"
      ]
    }
  ]
}